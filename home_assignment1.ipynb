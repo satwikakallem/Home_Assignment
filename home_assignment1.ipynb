{
  "nbformat": 4,
  "nbformat_minor": 0,
  "metadata": {
    "colab": {
      "provenance": [],
      "authorship_tag": "ABX9TyPBPFC+geg/f107TugtK7lF",
      "include_colab_link": true
    },
    "kernelspec": {
      "name": "python3",
      "display_name": "Python 3"
    },
    "language_info": {
      "name": "python"
    }
  },
  "cells": [
    {
      "cell_type": "markdown",
      "metadata": {
        "id": "view-in-github",
        "colab_type": "text"
      },
      "source": [
        "<a href=\"https://colab.research.google.com/github/satwikakallem/Home_Assignment1/blob/main/home_assignment1.ipynb\" target=\"_parent\"><img src=\"https://colab.research.google.com/assets/colab-badge.svg\" alt=\"Open In Colab\"/></a>"
      ]
    },
    {
      "cell_type": "code",
      "execution_count": null,
      "metadata": {
        "colab": {
          "base_uri": "https://localhost:8080/"
        },
        "id": "iD23tIWpUrcq",
        "outputId": "77824c50-553c-4f2f-d115-b13eba7ba6ee"
      },
      "outputs": [
        {
          "output_type": "stream",
          "name": "stdout",
          "text": [
            "Original Tensor:\n",
            "[[8.347074  5.991862  7.314875  4.331764  3.0891323 6.8218317]\n",
            " [2.925166  3.3416855 3.8856602 0.1802361 7.877845  1.3067043]\n",
            " [2.3006606 7.1404877 5.4341173 7.9160786 8.648985  9.7973385]\n",
            " [1.1631167 8.867834  5.512122  2.1706498 7.1158743 6.194071 ]]\n",
            "Rank: 2, Shape: [4 6]\n",
            "\n",
            "Reshaped Tensor (2, 3, 4):\n",
            "[[[8.347074  5.991862  7.314875  4.331764 ]\n",
            "  [3.0891323 6.8218317 2.925166  3.3416855]\n",
            "  [3.8856602 0.1802361 7.877845  1.3067043]]\n",
            "\n",
            " [[2.3006606 7.1404877 5.4341173 7.9160786]\n",
            "  [8.648985  9.7973385 1.1631167 8.867834 ]\n",
            "  [5.512122  2.1706498 7.1158743 6.194071 ]]]\n",
            "\n",
            "Transposed Tensor (3, 2, 4):\n",
            "[[[8.347074  5.991862  7.314875  4.331764 ]\n",
            "  [2.3006606 7.1404877 5.4341173 7.9160786]]\n",
            "\n",
            " [[3.0891323 6.8218317 2.925166  3.3416855]\n",
            "  [8.648985  9.7973385 1.1631167 8.867834 ]]\n",
            "\n",
            " [[3.8856602 0.1802361 7.877845  1.3067043]\n",
            "  [5.512122  2.1706498 7.1158743 6.194071 ]]]\n",
            "\n",
            "Broadcasted Tensor:\n",
            "[[[1. 2. 3. 4.]\n",
            "  [1. 2. 3. 4.]]\n",
            "\n",
            " [[1. 2. 3. 4.]\n",
            "  [1. 2. 3. 4.]]\n",
            "\n",
            " [[1. 2. 3. 4.]\n",
            "  [1. 2. 3. 4.]]]\n",
            "\n",
            "Result after Addition:\n",
            "[[[ 9.347074   7.991862  10.314875   8.331764 ]\n",
            "  [ 3.3006606  9.140488   8.434117  11.916079 ]]\n",
            "\n",
            " [[ 4.0891323  8.821832   5.925166   7.3416853]\n",
            "  [ 9.648985  11.7973385  4.1631165 12.867834 ]]\n",
            "\n",
            " [[ 4.88566    2.180236  10.877845   5.3067045]\n",
            "  [ 6.512122   4.1706495 10.115874  10.194071 ]]]\n"
          ]
        }
      ],
      "source": [
        "import tensorflow as tf\n",
        "\n",
        "# Step 1: Create a random tensor of shape (4, 6)\n",
        "tensor = tf.random.uniform(shape=(4, 6), minval=0, maxval=10, dtype=tf.float32)\n",
        "\n",
        "# Step 2: Find rank and shape of the tensor\n",
        "rank = tf.rank(tensor)  # Get the rank (number of dimensions)\n",
        "shape = tf.shape(tensor)  # Get the shape\n",
        "\n",
        "print(f\"Original Tensor:\\n{tensor}\")\n",
        "print(f\"Rank: {rank.numpy()}, Shape: {shape.numpy()}\")\n",
        "\n",
        "# Step 3: Reshape to (2, 3, 4)\n",
        "reshaped_tensor = tf.reshape(tensor, (2, 3, 4))\n",
        "print(f\"\\nReshaped Tensor (2, 3, 4):\\n{reshaped_tensor}\")\n",
        "\n",
        "# Step 4: Transpose to (3, 2, 4)\n",
        "transposed_tensor = tf.transpose(reshaped_tensor, perm=[1, 0, 2])\n",
        "print(f\"\\nTransposed Tensor (3, 2, 4):\\n{transposed_tensor}\")\n",
        "\n",
        "# Step 5: Broadcasting a smaller tensor (1, 4) to match the larger tensor\n",
        "small_tensor = tf.constant([[1.0, 2.0, 3.0, 4.0]])  # Shape (1, 4)\n",
        "\n",
        "# Broadcasting it to match shape (3, 2, 4)\n",
        "broadcasted_tensor = tf.broadcast_to(small_tensor, shape=(3, 2, 4))\n",
        "\n",
        "# Adding the broadcasted tensor to the transposed tensor\n",
        "result_tensor = transposed_tensor + broadcasted_tensor\n",
        "print(f\"\\nBroadcasted Tensor:\\n{broadcasted_tensor}\")\n",
        "print(f\"\\nResult after Addition:\\n{result_tensor}\")\n",
        "\n",
        "# Explanation of Broadcasting in TensorFlow:\n",
        "# Broadcasting allows tensors with different shapes to be added, multiplied, etc.\n",
        "# TensorFlow automatically expands dimensions when one tensor has a smaller shape,\n",
        "# making element-wise operations possible without explicit replication.\n",
        "# In this case, a (1, 4) tensor is expanded to (3, 2, 4) to match the transposed tensor.\n"
      ]
    },
    {
      "cell_type": "code",
      "source": [
        "import tensorflow as tf\n",
        "import numpy as np\n",
        "import matplotlib.pyplot as plt\n",
        "\n",
        "# Step 1: Define true values (y_true) and model predictions (y_pred)\n",
        "y_true = tf.constant([0, 1, 0, 1], dtype=tf.float32)  # Binary classification labels\n",
        "y_pred = tf.constant([0.1, 0.9, 0.2, 0.8], dtype=tf.float32)  # Predicted probabilities\n",
        "\n",
        "# Step 2: Compute Mean Squared Error (MSE) and Categorical Cross-Entropy (CCE) losses\n",
        "mse_loss = tf.keras.losses.MeanSquaredError()\n",
        "cce_loss = tf.keras.losses.CategoricalCrossentropy()\n",
        "\n",
        "# Convert y_true to one-hot encoding for CCE\n",
        "y_true_one_hot = tf.one_hot(tf.cast(y_true, tf.int32), depth=2)\n",
        "y_pred_reshaped = tf.stack([1 - y_pred, y_pred], axis=1)  # Convert to categorical predictions\n",
        "\n",
        "mse_value = mse_loss(y_true, y_pred).numpy()\n",
        "cce_value = cce_loss(y_true_one_hot, y_pred_reshaped).numpy()\n",
        "\n",
        "print(f\"Original MSE Loss: {mse_value}\")\n",
        "print(f\"Original Categorical Cross-Entropy Loss: {cce_value}\")\n",
        "\n",
        "# Step 3: Modify predictions slightly and check how loss values change\n",
        "y_pred_modified = tf.constant([0.2, 0.8, 0.3, 0.7], dtype=tf.float32)\n",
        "y_pred_modified_reshaped = tf.stack([1 - y_pred_modified, y_pred_modified], axis=1)\n",
        "\n",
        "mse_value_modified = mse_loss(y_true, y_pred_modified).numpy()\n",
        "cce_value_modified = cce_loss(y_true_one_hot, y_pred_modified_reshaped).numpy()\n",
        "\n",
        "print(f\"Modified MSE Loss: {mse_value_modified}\")\n",
        "print(f\"Modified Categorical Cross-Entropy Loss: {cce_value_modified}\")\n",
        "\n",
        "# Step 4: Plot loss function values using Matplotlib\n",
        "loss_types = ['Original MSE', 'Modified MSE', 'Original CCE', 'Modified CCE']\n",
        "loss_values = [mse_value, mse_value_modified, cce_value, cce_value_modified]\n",
        "\n",
        "plt.figure(figsize=(8, 5))\n",
        "plt.bar(loss_types, loss_values, color=['blue', 'lightblue', 'red', 'pink'])\n",
        "plt.xlabel(\"Loss Type\")\n",
        "plt.ylabel(\"Loss Value\")\n",
        "plt.title(\"Comparison of MSE and Categorical Cross-Entropy Loss\")\n",
        "plt.show()\n",
        "\n",
        "# Explanation:\n",
        "# - MSE measures the squared differences between true values and predictions.\n",
        "# - CCE measures the difference between probability distributions, important for classification tasks.\n",
        "# - Modifying predictions closer to true values reduces both loss values, indicating better performance.\n"
      ],
      "metadata": {
        "colab": {
          "base_uri": "https://localhost:8080/",
          "height": 555
        },
        "id": "cv92LNVCVAul",
        "outputId": "8aa58e29-e986-4f89-8788-024c4d2be9ce"
      },
      "execution_count": null,
      "outputs": [
        {
          "output_type": "stream",
          "name": "stdout",
          "text": [
            "Original MSE Loss: 0.02500000223517418\n",
            "Original Categorical Cross-Entropy Loss: 0.16425204277038574\n",
            "Modified MSE Loss: 0.06499999761581421\n",
            "Modified Categorical Cross-Entropy Loss: 0.2899092435836792\n"
          ]
        },
        {
          "output_type": "display_data",
          "data": {
            "text/plain": [
              "<Figure size 800x500 with 1 Axes>"
            ],
            "image/png": "[encoded data removed]"
          },
          "metadata": {}
        }
      ]
    },
    {
      "cell_type": "code",
      "source": [
        "import tensorflow as tf\n",
        "import numpy as np\n",
        "import matplotlib.pyplot as plt\n",
        "\n",
        "# Step 1: Define true values (y_true) and model predictions (y_pred)\n",
        "y_true = tf.constant([0, 1, 0, 1], dtype=tf.float32)  # Binary classification labels\n",
        "y_pred = tf.constant([0.1, 0.9, 0.2, 0.8], dtype=tf.float32)  # Predicted probabilities\n",
        "\n",
        "# Step 2: Compute Mean Squared Error (MSE) and Categorical Cross-Entropy (CCE) losses\n",
        "mse_loss = tf.keras.losses.MeanSquaredError()\n",
        "cce_loss = tf.keras.losses.CategoricalCrossentropy()\n",
        "\n",
        "# Convert y_true to one-hot encoding for CCE\n",
        "y_true_one_hot = tf.one_hot(tf.cast(y_true, tf.int32), depth=2)\n",
        "y_pred_reshaped = tf.stack([1 - y_pred, y_pred], axis=1)  # Convert to categorical predictions\n",
        "\n",
        "mse_value = mse_loss(y_true, y_pred).numpy()\n",
        "cce_value = cce_loss(y_true_one_hot, y_pred_reshaped).numpy()\n",
        "\n",
        "print(f\"Original MSE Loss: {mse_value}\")\n",
        "print(f\"Original Categorical Cross-Entropy Loss: {cce_value}\")\n",
        "\n",
        "# Step 3: Modify predictions slightly and check how loss values change\n",
        "y_pred_modified = tf.constant([0.2, 0.8, 0.3, 0.7], dtype=tf.float32)\n",
        "y_pred_modified_reshaped = tf.stack([1 - y_pred_modified, y_pred_modified], axis=1)\n",
        "\n",
        "mse_value_modified = mse_loss(y_true, y_pred_modified).numpy()\n",
        "cce_value_modified = cce_loss(y_true_one_hot, y_pred_modified_reshaped).numpy()\n",
        "\n",
        "print(f\"Modified MSE Loss: {mse_value_modified}\")\n",
        "print(f\"Modified Categorical Cross-Entropy Loss: {cce_value_modified}\")\n",
        "\n",
        "# Step 4: Plot loss function values using Matplotlib\n",
        "loss_types = ['Original MSE', 'Modified MSE', 'Original CCE', 'Modified CCE']\n",
        "loss_values = [mse_value, mse_value_modified, cce_value, cce_value_modified]\n",
        "\n",
        "plt.figure(figsize=(8, 5))\n",
        "plt.bar(loss_types, loss_values, color=['blue', 'lightblue', 'red', 'pink'])\n",
        "plt.xlabel(\"Loss Type\")\n",
        "plt.ylabel(\"Loss Value\")\n",
        "plt.title(\"Comparison of MSE and Categorical Cross-Entropy Loss\")\n",
        "plt.show()\n",
        "\n",
        "# Explanation:\n",
        "# - MSE measures the squared differences between true values and predictions.\n",
        "# - CCE measures the difference between probability distributions, important for classification tasks.\n",
        "# - Modifying predictions closer to true values reduces both loss values, indicating better performance.\n"
      ],
      "metadata": {
        "colab": {
          "base_uri": "https://localhost:8080/",
          "height": 555
        },
        "id": "cJ13oiwbVMqE",
        "outputId": "a94b40d5-5d9b-45fe-c22a-14f766a48f2f"
      },
      "execution_count": null,
      "outputs": [
        {
          "output_type": "stream",
          "name": "stdout",
          "text": [
            "Original MSE Loss: 0.02500000223517418\n",
            "Original Categorical Cross-Entropy Loss: 0.16425204277038574\n",
            "Modified MSE Loss: 0.06499999761581421\n",
            "Modified Categorical Cross-Entropy Loss: 0.2899092435836792\n"
          ]
        },
        {
          "output_type": "display_data",
          "data": {
            "text/plain": [
              "<Figure size 800x500 with 1 Axes>"
            ],
            "image/png": "[encoded data removed]"
          },
          "metadata": {}
        }
      ]
    },
    {
      "cell_type": "code",
      "source": [
        "import tensorflow as tf\n",
        "import numpy as np\n",
        "import matplotlib.pyplot as plt\n",
        "import datetime\n",
        "\n",
        "# Load the MNIST dataset and preprocess it\n",
        "mnist = tf.keras.datasets.mnist\n",
        "(x_train, y_train), (x_test, y_test) = mnist.load_data()\n",
        "x_train, x_test = x_train / 255.0, x_test / 255.0  # Normalize pixel values\n",
        "\n",
        "# Define a simple neural network model\n",
        "model = tf.keras.models.Sequential([\n",
        "    tf.keras.layers.Flatten(input_shape=(28, 28)),\n",
        "    tf.keras.layers.Dense(128, activation='relu'),\n",
        "    tf.keras.layers.Dropout(0.2),\n",
        "    tf.keras.layers.Dense(10, activation='softmax')\n",
        "])\n",
        "\n",
        "# Compile the model\n",
        "model.compile(optimizer='adam',\n",
        "              loss='sparse_categorical_crossentropy',\n",
        "              metrics=['accuracy'])\n",
        "\n",
        "# Set up TensorBoard logging\n",
        "log_dir = \"logs/fit/\" + datetime.datetime.now().strftime(\"%Y%m%d-%H%M%S\")\n",
        "tensorboard_callback = tf.keras.callbacks.TensorBoard(log_dir=log_dir, histogram_freq=1)\n",
        "\n",
        "# Train the model with TensorBoard logging\n",
        "model.fit(x_train, y_train, epochs=5, validation_data=(x_test, y_test), callbacks=[tensorboard_callback])\n",
        "\n",
        "print(\"Training complete. Run the following command to launch TensorBoard:\")\n",
        "print(\"tensorboard --logdir=logs/fit\")\n",
        "\n",
        "# Explanation:\n",
        "# - Loads the MNIST dataset and normalizes the pixel values.\n",
        "# - Defines a simple neural network with a dropout layer to prevent overfitting.\n",
        "# - Uses sparse categorical cross-entropy loss for multi-class classification.\n",
        "# - Logs training data to TensorBoard for visualization.\n",
        "# - You can monitor loss and accuracy trends by running TensorBoard.\n"
      ],
      "metadata": {
        "colab": {
          "base_uri": "https://localhost:8080/"
        },
        "id": "3XB1fq95Vp04",
        "outputId": "1a05fcd0-e325-4713-e55f-577e62197e42"
      },
      "execution_count": null,
      "outputs": [
        {
          "output_type": "stream",
          "name": "stdout",
          "text": [
            "Downloading data from https://storage.googleapis.com/tensorflow/tf-keras-datasets/mnist.npz\n",
            "\u001b[1m11490434/11490434\u001b[0m \u001b[32m━━━━━━━━━━━━━━━━━━━━\u001b[0m\u001b[37m\u001b[0m \u001b[1m1s\u001b[0m 0us/step\n"
          ]
        },
        {
          "output_type": "stream",
          "name": "stderr",
          "text": [
            "/usr/local/lib/python3.11/dist-packages/keras/src/layers/reshaping/flatten.py:37: UserWarning: Do not pass an `input_shape`/`input_dim` argument to a layer. When using Sequential models, prefer using an `Input(shape)` object as the first layer in the model instead.\n",
            "  super().__init__(**kwargs)\n"
          ]
        },
        {
          "output_type": "stream",
          "name": "stdout",
          "text": [
            "Epoch 1/5\n",
            "\u001b[1m1875/1875\u001b[0m \u001b[32m━━━━━━━━━━━━━━━━━━━━\u001b[0m\u001b[37m\u001b[0m \u001b[1m12s\u001b[0m 6ms/step - accuracy: 0.8559 - loss: 0.4841 - val_accuracy: 0.9590 - val_loss: 0.1397\n",
            "Epoch 2/5\n",
            "\u001b[1m1875/1875\u001b[0m \u001b[32m━━━━━━━━━━━━━━━━━━━━\u001b[0m\u001b[37m\u001b[0m \u001b[1m21s\u001b[0m 6ms/step - accuracy: 0.9539 - loss: 0.1553 - val_accuracy: 0.9669 - val_loss: 0.1074\n",
            "Epoch 3/5\n",
            "\u001b[1m1875/1875\u001b[0m \u001b[32m━━━━━━━━━━━━━━━━━━━━\u001b[0m\u001b[37m\u001b[0m \u001b[1m11s\u001b[0m 6ms/step - accuracy: 0.9675 - loss: 0.1093 - val_accuracy: 0.9734 - val_loss: 0.0875\n",
            "Epoch 4/5\n",
            "\u001b[1m1875/1875\u001b[0m \u001b[32m━━━━━━━━━━━━━━━━━━━━\u001b[0m\u001b[37m\u001b[0m \u001b[1m11s\u001b[0m 6ms/step - accuracy: 0.9751 - loss: 0.0825 - val_accuracy: 0.9755 - val_loss: 0.0804\n",
            "Epoch 5/5\n",
            "\u001b[1m1875/1875\u001b[0m \u001b[32m━━━━━━━━━━━━━━━━━━━━\u001b[0m\u001b[37m\u001b[0m \u001b[1m10s\u001b[0m 5ms/step - accuracy: 0.9771 - loss: 0.0740 - val_accuracy: 0.9769 - val_loss: 0.0776\n",
            "Training complete. Run the following command to launch TensorBoard:\n",
            "tensorboard --logdir=logs/fit\n"
          ]
        }
      ]
    }
  ]
}